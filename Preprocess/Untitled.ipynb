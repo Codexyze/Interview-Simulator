{
 "cells": [
  {
   "cell_type": "code",
   "execution_count": 1,
   "id": "5d68e252-9113-4c06-82a8-18a1ac518ca7",
   "metadata": {},
   "outputs": [
    {
     "ename": "FileNotFoundError",
     "evalue": "[Errno 2] No such file or directory: 'Datasets/ML_interview_questions.json'",
     "output_type": "error",
     "traceback": [
      "\u001b[1;31m---------------------------------------------------------------------------\u001b[0m",
      "\u001b[1;31mFileNotFoundError\u001b[0m                         Traceback (most recent call last)",
      "Cell \u001b[1;32mIn[1], line 11\u001b[0m\n\u001b[0;32m      8\u001b[0m     \u001b[38;5;28;01mreturn\u001b[39;00m text\u001b[38;5;241m.\u001b[39mstrip()\n\u001b[0;32m     10\u001b[0m \u001b[38;5;66;03m# Load JSON files\u001b[39;00m\n\u001b[1;32m---> 11\u001b[0m \u001b[38;5;28;01mwith\u001b[39;00m \u001b[38;5;28;43mopen\u001b[39;49m\u001b[43m(\u001b[49m\u001b[38;5;124;43mr\u001b[39;49m\u001b[38;5;124;43m\"\u001b[39;49m\u001b[38;5;124;43mDatasets/ML_interview_questions.json\u001b[39;49m\u001b[38;5;124;43m\"\u001b[39;49m\u001b[43m,\u001b[49m\u001b[43m \u001b[49m\u001b[38;5;124;43m\"\u001b[39;49m\u001b[38;5;124;43mr\u001b[39;49m\u001b[38;5;124;43m\"\u001b[39;49m\u001b[43m,\u001b[49m\u001b[43m \u001b[49m\u001b[43mencoding\u001b[49m\u001b[38;5;241;43m=\u001b[39;49m\u001b[38;5;124;43m\"\u001b[39;49m\u001b[38;5;124;43mutf-8\u001b[39;49m\u001b[38;5;124;43m\"\u001b[39;49m\u001b[43m)\u001b[49m \u001b[38;5;28;01mas\u001b[39;00m ml_file:\n\u001b[0;32m     12\u001b[0m     ml_questions \u001b[38;5;241m=\u001b[39m json\u001b[38;5;241m.\u001b[39mload(ml_file)\n\u001b[0;32m     14\u001b[0m \u001b[38;5;66;03m# with open(\"android_questions.json\", \"r\", encoding=\"utf-8\") as android_file:\u001b[39;00m\n\u001b[0;32m     15\u001b[0m \u001b[38;5;66;03m#     android_questions = json.load(android_file)\u001b[39;00m\n\u001b[0;32m     16\u001b[0m \n\u001b[0;32m     17\u001b[0m \u001b[38;5;66;03m# Process ML Questions\u001b[39;00m\n",
      "File \u001b[1;32m~\\anaconda3\\envs\\interview\\lib\\site-packages\\IPython\\core\\interactiveshell.py:324\u001b[0m, in \u001b[0;36m_modified_open\u001b[1;34m(file, *args, **kwargs)\u001b[0m\n\u001b[0;32m    317\u001b[0m \u001b[38;5;28;01mif\u001b[39;00m file \u001b[38;5;129;01min\u001b[39;00m {\u001b[38;5;241m0\u001b[39m, \u001b[38;5;241m1\u001b[39m, \u001b[38;5;241m2\u001b[39m}:\n\u001b[0;32m    318\u001b[0m     \u001b[38;5;28;01mraise\u001b[39;00m \u001b[38;5;167;01mValueError\u001b[39;00m(\n\u001b[0;32m    319\u001b[0m         \u001b[38;5;124mf\u001b[39m\u001b[38;5;124m\"\u001b[39m\u001b[38;5;124mIPython won\u001b[39m\u001b[38;5;124m'\u001b[39m\u001b[38;5;124mt let you open fd=\u001b[39m\u001b[38;5;132;01m{\u001b[39;00mfile\u001b[38;5;132;01m}\u001b[39;00m\u001b[38;5;124m by default \u001b[39m\u001b[38;5;124m\"\u001b[39m\n\u001b[0;32m    320\u001b[0m         \u001b[38;5;124m\"\u001b[39m\u001b[38;5;124mas it is likely to crash IPython. If you know what you are doing, \u001b[39m\u001b[38;5;124m\"\u001b[39m\n\u001b[0;32m    321\u001b[0m         \u001b[38;5;124m\"\u001b[39m\u001b[38;5;124myou can use builtins\u001b[39m\u001b[38;5;124m'\u001b[39m\u001b[38;5;124m open.\u001b[39m\u001b[38;5;124m\"\u001b[39m\n\u001b[0;32m    322\u001b[0m     )\n\u001b[1;32m--> 324\u001b[0m \u001b[38;5;28;01mreturn\u001b[39;00m io_open(file, \u001b[38;5;241m*\u001b[39margs, \u001b[38;5;241m*\u001b[39m\u001b[38;5;241m*\u001b[39mkwargs)\n",
      "\u001b[1;31mFileNotFoundError\u001b[0m: [Errno 2] No such file or directory: 'Datasets/ML_interview_questions.json'"
     ]
    }
   ],
   "source": [
    "import json\n",
    "import re\n",
    "\n",
    "# Function to clean answers by removing links\n",
    "def clean_text(text):\n",
    "    text = re.sub(r'http[s]?://\\S+', '', text)  # Remove HTTP/HTTPS links\n",
    "    text = re.sub(r'\\[.*?\\]\\(.*?\\)', '', text)  # Remove markdown links like [text](url)\n",
    "    return text.strip()\n",
    "\n",
    "# Load JSON files\n",
    "with open(r\"Datasets/ML_interview_questions.json\", \"r\", encoding=\"utf-8\") as ml_file:\n",
    "    ml_questions = json.load(ml_file)\n",
    "\n",
    "# with open(\"android_questions.json\", \"r\", encoding=\"utf-8\") as android_file:\n",
    "#     android_questions = json.load(android_file)\n",
    "\n",
    "# Process ML Questions\n",
    "cleaned_ml_questions = []\n",
    "for item in ml_questions:\n",
    "    question = item.get(\"Question\", \"\").strip()\n",
    "    answer = clean_text(item.get(\"Answer\", \"\").strip())\n",
    "    if question and answer:  # Ensure no empty values\n",
    "        cleaned_ml_questions.append({\"Question\": question, \"Answer\": answer})\n",
    "\n",
    "# Process Android Questions\n",
    "cleaned_android_questions = []\n",
    "for item in android_questions:\n",
    "    question = item.get(\"Question\", \"\").strip()\n",
    "    answer = clean_text(item.get(\"Answer\", \"\").strip())\n",
    "    if question and answer:  # Ensure no empty values\n",
    "        cleaned_android_questions.append({\"Question\": question, \"Answer\": answer})\n",
    "\n",
    "# Save cleaned ML questions\n",
    "with open(\"cleaned_ml_questions.json\", \"w\", encoding=\"utf-8\") as ml_out:\n",
    "    json.dump(cleaned_ml_questions, ml_out, indent=4, ensure_ascii=False)\n",
    "\n",
    "# Save cleaned Android questions\n",
    "# with open(\"cleaned_android_questions.json\", \"w\", encoding=\"utf-8\") as android_out:\n",
    "#     json.dump(cleaned_android_questions, android_out, indent=4, ensure_ascii=False)\n",
    "\n",
    "print(\"✅ Cleaning complete! Files saved as cleaned_ml_questions.json and cleaned_android_questions.json\")\n"
   ]
  },
  {
   "cell_type": "code",
   "execution_count": null,
   "id": "e1d04ee3-089b-43b8-8583-13732b977c48",
   "metadata": {},
   "outputs": [],
   "source": []
  }
 ],
 "metadata": {
  "kernelspec": {
   "display_name": "Python 3 (ipykernel)",
   "language": "python",
   "name": "python3"
  },
  "language_info": {
   "codemirror_mode": {
    "name": "ipython",
    "version": 3
   },
   "file_extension": ".py",
   "mimetype": "text/x-python",
   "name": "python",
   "nbconvert_exporter": "python",
   "pygments_lexer": "ipython3",
   "version": "3.10.16"
  }
 },
 "nbformat": 4,
 "nbformat_minor": 5
}
