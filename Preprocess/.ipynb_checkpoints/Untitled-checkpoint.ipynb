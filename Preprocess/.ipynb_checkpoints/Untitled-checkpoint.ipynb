{
 "cells": [
  {
   "cell_type": "code",
   "execution_count": 2,
   "id": "1bd315ba",
   "metadata": {},
   "outputs": [
    {
     "name": "stdout",
     "output_type": "stream",
     "text": [
      "✅ Preprocessing complete! Data saved in ml_interview_questions_cleaned.json\n"
     ]
    }
   ],
   "source": [
    "import json\n",
    "\n",
    "# Load the JSON file properly\n",
    "with open(r\"D:\\Interview-Simulator\\Datasets\\ml_interview_questions.json\", \"r\", encoding=\"utf-8\") as file:\n",
    "    data = json.load(file)  # Ensure data is parsed as a list of dictionaries\n",
    "\n",
    "# Ensure data is a list\n",
    "if isinstance(data, dict):  # If the JSON file contains a single dictionary, wrap it in a list\n",
    "    data = [data]\n",
    "\n",
    "# Convert list-based answers into a single string\n",
    "for entry in data:\n",
    "    if isinstance(entry.get(\"answer\"), list):  # Use .get() to avoid KeyErrors\n",
    "        entry[\"answer\"] = \" \".join(entry[\"answer\"])  # Join list items into a single string\n",
    "\n",
    "# Save the cleaned dataset\n",
    "with open(\"ml_interview_questions_cleaned.json\", \"w\", encoding=\"utf-8\") as file:\n",
    "    json.dump(data, file, indent=4, ensure_ascii=False)\n",
    "\n",
    "print(\"✅ Preprocessing complete! Data saved in ml_interview_questions_cleaned.json\")\n"
   ]
  },
  {
   "cell_type": "code",
   "execution_count": null,
   "id": "d0369247",
   "metadata": {},
   "outputs": [],
   "source": []
  }
 ],
 "metadata": {
  "kernelspec": {
   "display_name": "interview",
   "language": "python",
   "name": "python3"
  },
  "language_info": {
   "codemirror_mode": {
    "name": "ipython",
    "version": 3
   },
   "file_extension": ".py",
   "mimetype": "text/x-python",
   "name": "python",
   "nbconvert_exporter": "python",
   "pygments_lexer": "ipython3",
   "version": "3.10.16"
  }
 },
 "nbformat": 4,
 "nbformat_minor": 5
}
